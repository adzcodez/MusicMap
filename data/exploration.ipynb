{
 "metadata": {
  "language_info": {
   "codemirror_mode": {
    "name": "ipython",
    "version": 3
   },
   "file_extension": ".py",
   "mimetype": "text/x-python",
   "name": "python",
   "nbconvert_exporter": "python",
   "pygments_lexer": "ipython3",
   "version": "3.8.5-final"
  },
  "orig_nbformat": 2,
  "kernelspec": {
   "name": "python3",
   "display_name": "Python 3",
   "language": "python"
  }
 },
 "nbformat": 4,
 "nbformat_minor": 2,
 "cells": [
  {
   "cell_type": "code",
   "execution_count": 5,
   "metadata": {},
   "outputs": [],
   "source": [
    "import pandas as pd \n",
    "\n",
    "data = \"LastFM/scrobbles.csv\""
   ]
  },
  {
   "cell_type": "code",
   "execution_count": 7,
   "metadata": {},
   "outputs": [
    {
     "output_type": "execute_result",
     "data": {
      "text/plain": [
       "                     Artist  \\\n",
       "0       Brave Little Abacus   \n",
       "1       Brave Little Abacus   \n",
       "2       Brave Little Abacus   \n",
       "3       Brave Little Abacus   \n",
       "4       Brave Little Abacus   \n",
       "...                     ...   \n",
       "126910            Radiohead   \n",
       "126911            Radiohead   \n",
       "126912            Radiohead   \n",
       "126913            Radiohead   \n",
       "126914            Radiohead   \n",
       "\n",
       "                                                    Album  \\\n",
       "0       Masked Dancers: Concern in So Many Things You ...   \n",
       "1       Masked Dancers: Concern in So Many Things You ...   \n",
       "2       Masked Dancers: Concern in So Many Things You ...   \n",
       "3       Masked Dancers: Concern in So Many Things You ...   \n",
       "4       Masked Dancers: Concern in So Many Things You ...   \n",
       "...                                                   ...   \n",
       "126910                                          The Bends   \n",
       "126911                                          The Bends   \n",
       "126912                                          The Bends   \n",
       "126913                                          The Bends   \n",
       "126914                                          The Bends   \n",
       "\n",
       "                                                 Track               Time  \n",
       "0          born again so many times you forget you are  26 Feb 2021 11:33  \n",
       "1                  he never existed in the first place  26 Feb 2021 11:29  \n",
       "2                                     Through Hallways  26 Feb 2021 11:26  \n",
       "3       Waiting for Your Return Like Running Backwards  26 Feb 2021 11:24  \n",
       "4                                   A Map Of the Stars  26 Feb 2021 11:21  \n",
       "...                                                ...                ...  \n",
       "126910                                    (Nice Dream)  01 Jan 1970 00:00  \n",
       "126911                                    (Nice Dream)  01 Jan 1970 00:00  \n",
       "126912                                    (Nice Dream)  01 Jan 1970 00:00  \n",
       "126913                                    (Nice Dream)  01 Jan 1970 00:00  \n",
       "126914                                    (Nice Dream)  01 Jan 1970 00:00  \n",
       "\n",
       "[126915 rows x 4 columns]"
      ],
      "text/html": "<div>\n<style scoped>\n    .dataframe tbody tr th:only-of-type {\n        vertical-align: middle;\n    }\n\n    .dataframe tbody tr th {\n        vertical-align: top;\n    }\n\n    .dataframe thead th {\n        text-align: right;\n    }\n</style>\n<table border=\"1\" class=\"dataframe\">\n  <thead>\n    <tr style=\"text-align: right;\">\n      <th></th>\n      <th>Artist</th>\n      <th>Album</th>\n      <th>Track</th>\n      <th>Time</th>\n    </tr>\n  </thead>\n  <tbody>\n    <tr>\n      <th>0</th>\n      <td>Brave Little Abacus</td>\n      <td>Masked Dancers: Concern in So Many Things You ...</td>\n      <td>born again so many times you forget you are</td>\n      <td>26 Feb 2021 11:33</td>\n    </tr>\n    <tr>\n      <th>1</th>\n      <td>Brave Little Abacus</td>\n      <td>Masked Dancers: Concern in So Many Things You ...</td>\n      <td>he never existed in the first place</td>\n      <td>26 Feb 2021 11:29</td>\n    </tr>\n    <tr>\n      <th>2</th>\n      <td>Brave Little Abacus</td>\n      <td>Masked Dancers: Concern in So Many Things You ...</td>\n      <td>Through Hallways</td>\n      <td>26 Feb 2021 11:26</td>\n    </tr>\n    <tr>\n      <th>3</th>\n      <td>Brave Little Abacus</td>\n      <td>Masked Dancers: Concern in So Many Things You ...</td>\n      <td>Waiting for Your Return Like Running Backwards</td>\n      <td>26 Feb 2021 11:24</td>\n    </tr>\n    <tr>\n      <th>4</th>\n      <td>Brave Little Abacus</td>\n      <td>Masked Dancers: Concern in So Many Things You ...</td>\n      <td>A Map Of the Stars</td>\n      <td>26 Feb 2021 11:21</td>\n    </tr>\n    <tr>\n      <th>...</th>\n      <td>...</td>\n      <td>...</td>\n      <td>...</td>\n      <td>...</td>\n    </tr>\n    <tr>\n      <th>126910</th>\n      <td>Radiohead</td>\n      <td>The Bends</td>\n      <td>(Nice Dream)</td>\n      <td>01 Jan 1970 00:00</td>\n    </tr>\n    <tr>\n      <th>126911</th>\n      <td>Radiohead</td>\n      <td>The Bends</td>\n      <td>(Nice Dream)</td>\n      <td>01 Jan 1970 00:00</td>\n    </tr>\n    <tr>\n      <th>126912</th>\n      <td>Radiohead</td>\n      <td>The Bends</td>\n      <td>(Nice Dream)</td>\n      <td>01 Jan 1970 00:00</td>\n    </tr>\n    <tr>\n      <th>126913</th>\n      <td>Radiohead</td>\n      <td>The Bends</td>\n      <td>(Nice Dream)</td>\n      <td>01 Jan 1970 00:00</td>\n    </tr>\n    <tr>\n      <th>126914</th>\n      <td>Radiohead</td>\n      <td>The Bends</td>\n      <td>(Nice Dream)</td>\n      <td>01 Jan 1970 00:00</td>\n    </tr>\n  </tbody>\n</table>\n<p>126915 rows × 4 columns</p>\n</div>"
     },
     "metadata": {},
     "execution_count": 7
    }
   ],
   "source": [
    "scrobbles = pd.read_csv(data, names=['Artist', 'Album', 'Track', 'Time'])\n",
    "scrobbles"
   ]
  },
  {
   "cell_type": "code",
   "execution_count": 20,
   "metadata": {},
   "outputs": [
    {
     "output_type": "execute_result",
     "data": {
      "text/plain": [
       "           Artist        Album                  Track               Time\n",
       "1730    Radiohead  In Rainbows  Weird Fishes/ Arpeggi  14 Jan 2021 19:24\n",
       "1732    Radiohead  OK Computer            The Tourist  14 Jan 2021 19:14\n",
       "1733    Radiohead  OK Computer                  Lucky  14 Jan 2021 19:10\n",
       "1734    Radiohead  OK Computer           No Surprises  14 Jan 2021 19:06\n",
       "1735    Radiohead  OK Computer  Climbing Up the Walls  14 Jan 2021 19:02\n",
       "...           ...          ...                    ...                ...\n",
       "126910  Radiohead    The Bends           (Nice Dream)  01 Jan 1970 00:00\n",
       "126911  Radiohead    The Bends           (Nice Dream)  01 Jan 1970 00:00\n",
       "126912  Radiohead    The Bends           (Nice Dream)  01 Jan 1970 00:00\n",
       "126913  Radiohead    The Bends           (Nice Dream)  01 Jan 1970 00:00\n",
       "126914  Radiohead    The Bends           (Nice Dream)  01 Jan 1970 00:00\n",
       "\n",
       "[3650 rows x 4 columns]"
      ],
      "text/html": "<div>\n<style scoped>\n    .dataframe tbody tr th:only-of-type {\n        vertical-align: middle;\n    }\n\n    .dataframe tbody tr th {\n        vertical-align: top;\n    }\n\n    .dataframe thead th {\n        text-align: right;\n    }\n</style>\n<table border=\"1\" class=\"dataframe\">\n  <thead>\n    <tr style=\"text-align: right;\">\n      <th></th>\n      <th>Artist</th>\n      <th>Album</th>\n      <th>Track</th>\n      <th>Time</th>\n    </tr>\n  </thead>\n  <tbody>\n    <tr>\n      <th>1730</th>\n      <td>Radiohead</td>\n      <td>In Rainbows</td>\n      <td>Weird Fishes/ Arpeggi</td>\n      <td>14 Jan 2021 19:24</td>\n    </tr>\n    <tr>\n      <th>1732</th>\n      <td>Radiohead</td>\n      <td>OK Computer</td>\n      <td>The Tourist</td>\n      <td>14 Jan 2021 19:14</td>\n    </tr>\n    <tr>\n      <th>1733</th>\n      <td>Radiohead</td>\n      <td>OK Computer</td>\n      <td>Lucky</td>\n      <td>14 Jan 2021 19:10</td>\n    </tr>\n    <tr>\n      <th>1734</th>\n      <td>Radiohead</td>\n      <td>OK Computer</td>\n      <td>No Surprises</td>\n      <td>14 Jan 2021 19:06</td>\n    </tr>\n    <tr>\n      <th>1735</th>\n      <td>Radiohead</td>\n      <td>OK Computer</td>\n      <td>Climbing Up the Walls</td>\n      <td>14 Jan 2021 19:02</td>\n    </tr>\n    <tr>\n      <th>...</th>\n      <td>...</td>\n      <td>...</td>\n      <td>...</td>\n      <td>...</td>\n    </tr>\n    <tr>\n      <th>126910</th>\n      <td>Radiohead</td>\n      <td>The Bends</td>\n      <td>(Nice Dream)</td>\n      <td>01 Jan 1970 00:00</td>\n    </tr>\n    <tr>\n      <th>126911</th>\n      <td>Radiohead</td>\n      <td>The Bends</td>\n      <td>(Nice Dream)</td>\n      <td>01 Jan 1970 00:00</td>\n    </tr>\n    <tr>\n      <th>126912</th>\n      <td>Radiohead</td>\n      <td>The Bends</td>\n      <td>(Nice Dream)</td>\n      <td>01 Jan 1970 00:00</td>\n    </tr>\n    <tr>\n      <th>126913</th>\n      <td>Radiohead</td>\n      <td>The Bends</td>\n      <td>(Nice Dream)</td>\n      <td>01 Jan 1970 00:00</td>\n    </tr>\n    <tr>\n      <th>126914</th>\n      <td>Radiohead</td>\n      <td>The Bends</td>\n      <td>(Nice Dream)</td>\n      <td>01 Jan 1970 00:00</td>\n    </tr>\n  </tbody>\n</table>\n<p>3650 rows × 4 columns</p>\n</div>"
     },
     "metadata": {},
     "execution_count": 20
    }
   ],
   "source": [
    "scrobbles.loc[scrobbles['Artist'] == 'Radiohead']"
   ]
  },
  {
   "cell_type": "code",
   "execution_count": null,
   "metadata": {},
   "outputs": [],
   "source": []
  }
 ]
}